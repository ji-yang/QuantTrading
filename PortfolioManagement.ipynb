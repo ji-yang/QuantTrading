{
 "cells": [
  {
   "cell_type": "code",
   "execution_count": 1,
   "metadata": {},
   "outputs": [
    {
     "data": {
      "text/plain": [
       "sys.version_info(major=3, minor=5, micro=5, releaselevel='final', serial=0)"
      ]
     },
     "execution_count": 1,
     "metadata": {},
     "output_type": "execute_result"
    }
   ],
   "source": [
    "import sys\n",
    "sys.version\n",
    "sys.version_info"
   ]
  },
  {
   "cell_type": "markdown",
   "metadata": {},
   "source": [
    "\n",
    "# Useful Python code\n",
    "\n",
    "https://pandas.pydata.org/pandas-docs/stable/10min.html\n",
    "https://pandas.pydata.org/pandas-docs/stable/visualization.html\n"
   ]
  },
  {
   "cell_type": "code",
   "execution_count": 2,
   "metadata": {},
   "outputs": [],
   "source": [
    "%matplotlib inline\n",
    "import numpy as np\n",
    "import matplotlib.pyplot as plt\n",
    "import pandas as pd\n",
    "import warnings\n",
    "warnings.filterwarnings('ignore')"
   ]
  },
  {
   "cell_type": "markdown",
   "metadata": {},
   "source": [
    "#  File Contents\n",
    "Returns to the following asset classes are contained in the file\n",
    " * \"MSCI WORLD\"\n",
    " * \"MSCI AC WORLD\"    \n",
    " * \"MSCI EUROPE\"\n",
    " * \"MSCI EM\"\n",
    " * \"MSCI EAFE\"        \n",
    " * \"MSCI PACIFIC\"\n",
    " * \"MSCI USA\"\n",
    " * \"Treasury.Bond.10Y\"\n",
    " * \"Treasury.Bill.90D\"\n",
    "\n",
    "\n",
    " <span style=\"color:blue\">Our set of risky assets for the analysis is  MSCI EUROPE, MSCI USA , MSCI PACIFIC, Treasury.Bond.10Y </span>\n"
   ]
  },
  {
   "cell_type": "code",
   "execution_count": 3,
   "metadata": {},
   "outputs": [],
   "source": [
    "#\n",
    "# read in the data\n",
    "\n",
    "#use current directory for input file\n",
    "infile  = \"ReturnsPortfolios.csv\"\n",
    "\n",
    "#print(inpath+infile)\n",
    "indata = pd.read_csv(infile)\n"
   ]
  },
  {
   "cell_type": "code",
   "execution_count": 4,
   "metadata": {},
   "outputs": [
    {
     "data": {
      "text/html": [
       "<div>\n",
       "<style scoped>\n",
       "    .dataframe tbody tr th:only-of-type {\n",
       "        vertical-align: middle;\n",
       "    }\n",
       "\n",
       "    .dataframe tbody tr th {\n",
       "        vertical-align: top;\n",
       "    }\n",
       "\n",
       "    .dataframe thead th {\n",
       "        text-align: right;\n",
       "    }\n",
       "</style>\n",
       "<table border=\"1\" class=\"dataframe\">\n",
       "  <thead>\n",
       "    <tr style=\"text-align: right;\">\n",
       "      <th></th>\n",
       "      <th>Date</th>\n",
       "      <th>MSCI WORLD</th>\n",
       "      <th>MSCI AC WORLD</th>\n",
       "      <th>MSCI EUROPE</th>\n",
       "      <th>MSCI EM</th>\n",
       "      <th>MSCI EAFE</th>\n",
       "      <th>MSCI PACIFIC</th>\n",
       "      <th>MSCI USA</th>\n",
       "      <th>Treasury.Bond.10Y</th>\n",
       "      <th>Treasury.Bill.90D</th>\n",
       "      <th>Treasury.Bill.30D</th>\n",
       "    </tr>\n",
       "  </thead>\n",
       "  <tbody>\n",
       "    <tr>\n",
       "      <th>0</th>\n",
       "      <td>1/29/1988</td>\n",
       "      <td>0.024592</td>\n",
       "      <td>0.025330</td>\n",
       "      <td>-0.040626</td>\n",
       "      <td>0.098380</td>\n",
       "      <td>0.018081</td>\n",
       "      <td>0.049747</td>\n",
       "      <td>0.042834</td>\n",
       "      <td>0.044235</td>\n",
       "      <td>0.005001</td>\n",
       "      <td>0.002762</td>\n",
       "    </tr>\n",
       "    <tr>\n",
       "      <th>1</th>\n",
       "      <td>2/29/1988</td>\n",
       "      <td>0.058224</td>\n",
       "      <td>0.058079</td>\n",
       "      <td>0.059266</td>\n",
       "      <td>0.003396</td>\n",
       "      <td>0.066914</td>\n",
       "      <td>0.070676</td>\n",
       "      <td>0.041869</td>\n",
       "      <td>0.013917</td>\n",
       "      <td>0.005349</td>\n",
       "      <td>0.004564</td>\n",
       "    </tr>\n",
       "    <tr>\n",
       "      <th>2</th>\n",
       "      <td>3/31/1988</td>\n",
       "      <td>0.030382</td>\n",
       "      <td>0.031100</td>\n",
       "      <td>0.027948</td>\n",
       "      <td>0.107385</td>\n",
       "      <td>0.061675</td>\n",
       "      <td>0.078041</td>\n",
       "      <td>-0.033456</td>\n",
       "      <td>-0.019930</td>\n",
       "      <td>0.004803</td>\n",
       "      <td>0.004402</td>\n",
       "    </tr>\n",
       "    <tr>\n",
       "      <th>3</th>\n",
       "      <td>4/29/1988</td>\n",
       "      <td>0.012798</td>\n",
       "      <td>0.012980</td>\n",
       "      <td>0.019014</td>\n",
       "      <td>0.053382</td>\n",
       "      <td>0.014717</td>\n",
       "      <td>0.012751</td>\n",
       "      <td>0.009184</td>\n",
       "      <td>-0.012511</td>\n",
       "      <td>0.004554</td>\n",
       "      <td>0.004577</td>\n",
       "    </tr>\n",
       "    <tr>\n",
       "      <th>4</th>\n",
       "      <td>5/31/1988</td>\n",
       "      <td>-0.019802</td>\n",
       "      <td>-0.019521</td>\n",
       "      <td>-0.018278</td>\n",
       "      <td>0.029962</td>\n",
       "      <td>-0.031833</td>\n",
       "      <td>-0.038039</td>\n",
       "      <td>0.008603</td>\n",
       "      <td>-0.015848</td>\n",
       "      <td>0.005027</td>\n",
       "      <td>0.005051</td>\n",
       "    </tr>\n",
       "  </tbody>\n",
       "</table>\n",
       "</div>"
      ],
      "text/plain": [
       "        Date  MSCI WORLD  MSCI AC WORLD  MSCI EUROPE   MSCI EM  MSCI EAFE  \\\n",
       "0  1/29/1988    0.024592       0.025330    -0.040626  0.098380   0.018081   \n",
       "1  2/29/1988    0.058224       0.058079     0.059266  0.003396   0.066914   \n",
       "2  3/31/1988    0.030382       0.031100     0.027948  0.107385   0.061675   \n",
       "3  4/29/1988    0.012798       0.012980     0.019014  0.053382   0.014717   \n",
       "4  5/31/1988   -0.019802      -0.019521    -0.018278  0.029962  -0.031833   \n",
       "\n",
       "   MSCI PACIFIC  MSCI USA  Treasury.Bond.10Y  Treasury.Bill.90D  \\\n",
       "0      0.049747  0.042834           0.044235           0.005001   \n",
       "1      0.070676  0.041869           0.013917           0.005349   \n",
       "2      0.078041 -0.033456          -0.019930           0.004803   \n",
       "3      0.012751  0.009184          -0.012511           0.004554   \n",
       "4     -0.038039  0.008603          -0.015848           0.005027   \n",
       "\n",
       "   Treasury.Bill.30D  \n",
       "0           0.002762  \n",
       "1           0.004564  \n",
       "2           0.004402  \n",
       "3           0.004577  \n",
       "4           0.005051  "
      ]
     },
     "execution_count": 4,
     "metadata": {},
     "output_type": "execute_result"
    }
   ],
   "source": [
    "indata.head(5)"
   ]
  },
  {
   "cell_type": "code",
   "execution_count": 5,
   "metadata": {},
   "outputs": [],
   "source": [
    "RiskyAsset     = [\"MSCI EUROPE\",\"MSCI USA\",\"MSCI PACIFIC\",\"Treasury.Bond.10Y\"]\n",
    "RiskFreeAsset  = \"Treasury.Bill.90D\""
   ]
  },
  {
   "cell_type": "code",
   "execution_count": 6,
   "metadata": {},
   "outputs": [
    {
     "data": {
      "text/html": [
       "<div>\n",
       "<style scoped>\n",
       "    .dataframe tbody tr th:only-of-type {\n",
       "        vertical-align: middle;\n",
       "    }\n",
       "\n",
       "    .dataframe tbody tr th {\n",
       "        vertical-align: top;\n",
       "    }\n",
       "\n",
       "    .dataframe thead th {\n",
       "        text-align: right;\n",
       "    }\n",
       "</style>\n",
       "<table border=\"1\" class=\"dataframe\">\n",
       "  <thead>\n",
       "    <tr style=\"text-align: right;\">\n",
       "      <th></th>\n",
       "      <th>MSCI EUROPE</th>\n",
       "      <th>MSCI USA</th>\n",
       "      <th>MSCI PACIFIC</th>\n",
       "      <th>Treasury.Bond.10Y</th>\n",
       "    </tr>\n",
       "  </thead>\n",
       "  <tbody>\n",
       "    <tr>\n",
       "      <th>1</th>\n",
       "      <td>0.059266</td>\n",
       "      <td>0.041869</td>\n",
       "      <td>0.070676</td>\n",
       "      <td>0.013917</td>\n",
       "    </tr>\n",
       "    <tr>\n",
       "      <th>2</th>\n",
       "      <td>0.027948</td>\n",
       "      <td>-0.033456</td>\n",
       "      <td>0.078041</td>\n",
       "      <td>-0.019930</td>\n",
       "    </tr>\n",
       "    <tr>\n",
       "      <th>3</th>\n",
       "      <td>0.019014</td>\n",
       "      <td>0.009184</td>\n",
       "      <td>0.012751</td>\n",
       "      <td>-0.012511</td>\n",
       "    </tr>\n",
       "  </tbody>\n",
       "</table>\n",
       "</div>"
      ],
      "text/plain": [
       "   MSCI EUROPE  MSCI USA  MSCI PACIFIC  Treasury.Bond.10Y\n",
       "1     0.059266  0.041869      0.070676           0.013917\n",
       "2     0.027948 -0.033456      0.078041          -0.019930\n",
       "3     0.019014  0.009184      0.012751          -0.012511"
      ]
     },
     "execution_count": 6,
     "metadata": {},
     "output_type": "execute_result"
    }
   ],
   "source": [
    "# \n",
    "# print out forst 3 rows and all columns of risky assets\n",
    "indata.loc[1:3,RiskyAsset]"
   ]
  },
  {
   "cell_type": "markdown",
   "metadata": {},
   "source": [
    "\n",
    "## <span style=\"color:blue\">Part 1: Risky Assets Analysis</span>\n",
    "\n",
    " Create a table calculating a-h for the risky assets:\n",
    "1. mean\n",
    "2.\tmedian\n",
    "3.\tstandard deviations \n",
    "4.\tskew \n",
    "5.\tkurtosis\n",
    "6.  return - risk ratio \n",
    "7.  plot the assets classes on a return - risk graph   \n",
    "8.  Write up a paragraph comparing the statistics of the risky assets\n"
   ]
  },
  {
   "cell_type": "code",
   "execution_count": 7,
   "metadata": {},
   "outputs": [
    {
     "data": {
      "text/html": [
       "<div>\n",
       "<style scoped>\n",
       "    .dataframe tbody tr th:only-of-type {\n",
       "        vertical-align: middle;\n",
       "    }\n",
       "\n",
       "    .dataframe tbody tr th {\n",
       "        vertical-align: top;\n",
       "    }\n",
       "\n",
       "    .dataframe thead th {\n",
       "        text-align: right;\n",
       "    }\n",
       "</style>\n",
       "<table border=\"1\" class=\"dataframe\">\n",
       "  <thead>\n",
       "    <tr style=\"text-align: right;\">\n",
       "      <th></th>\n",
       "      <th>mean</th>\n",
       "      <th>median</th>\n",
       "      <th>standard deviation</th>\n",
       "      <th>skew</th>\n",
       "      <th>kurtosis</th>\n",
       "      <th>return-risk ratio</th>\n",
       "    </tr>\n",
       "  </thead>\n",
       "  <tbody>\n",
       "    <tr>\n",
       "      <th>MSCI EUROPE</th>\n",
       "      <td>0.007798</td>\n",
       "      <td>0.010439</td>\n",
       "      <td>0.049996</td>\n",
       "      <td>-0.487418</td>\n",
       "      <td>1.274753</td>\n",
       "      <td>0.155978</td>\n",
       "    </tr>\n",
       "    <tr>\n",
       "      <th>MSCI USA</th>\n",
       "      <td>0.009155</td>\n",
       "      <td>0.012908</td>\n",
       "      <td>0.041358</td>\n",
       "      <td>-0.565864</td>\n",
       "      <td>1.218349</td>\n",
       "      <td>0.221373</td>\n",
       "    </tr>\n",
       "    <tr>\n",
       "      <th>MSCI PACIFIC</th>\n",
       "      <td>0.003608</td>\n",
       "      <td>0.001994</td>\n",
       "      <td>0.055957</td>\n",
       "      <td>0.003849</td>\n",
       "      <td>0.874957</td>\n",
       "      <td>0.064470</td>\n",
       "    </tr>\n",
       "    <tr>\n",
       "      <th>Treasury.Bond.10Y</th>\n",
       "      <td>0.005627</td>\n",
       "      <td>0.005221</td>\n",
       "      <td>0.019887</td>\n",
       "      <td>-0.009944</td>\n",
       "      <td>0.839616</td>\n",
       "      <td>0.282970</td>\n",
       "    </tr>\n",
       "  </tbody>\n",
       "</table>\n",
       "</div>"
      ],
      "text/plain": [
       "                       mean    median  standard deviation      skew  kurtosis  \\\n",
       "MSCI EUROPE        0.007798  0.010439            0.049996 -0.487418  1.274753   \n",
       "MSCI USA           0.009155  0.012908            0.041358 -0.565864  1.218349   \n",
       "MSCI PACIFIC       0.003608  0.001994            0.055957  0.003849  0.874957   \n",
       "Treasury.Bond.10Y  0.005627  0.005221            0.019887 -0.009944  0.839616   \n",
       "\n",
       "                   return-risk ratio  \n",
       "MSCI EUROPE                 0.155978  \n",
       "MSCI USA                    0.221373  \n",
       "MSCI PACIFIC                0.064470  \n",
       "Treasury.Bond.10Y           0.282970  "
      ]
     },
     "execution_count": 7,
     "metadata": {},
     "output_type": "execute_result"
    }
   ],
   "source": [
    "np.set_printoptions(precision=3)\n",
    "stats = pd.concat([indata[RiskyAsset].mean(),\n",
    "                   indata[RiskyAsset].median(),\n",
    "                   indata[RiskyAsset].std(),\n",
    "                   indata[RiskyAsset].skew(),\n",
    "                   indata[RiskyAsset].kurtosis()],axis=1)\n",
    "stats.columns=['mean','median','standard deviation','skew','kurtosis']\n",
    "risk_return_ratio = stats['mean'] / stats['standard deviation']\n",
    "stats['return-risk ratio'] = risk_return_ratio\n",
    "stats\n"
   ]
  },
  {
   "cell_type": "code",
   "execution_count": 8,
   "metadata": {},
   "outputs": [
    {
     "data": {
      "text/plain": [
       "Text(0,0.5,'return')"
      ]
     },
     "execution_count": 8,
     "metadata": {},
     "output_type": "execute_result"
    },
    {
     "data": {
      "image/png": "[encoded data removed]",
      "text/plain": [
       "<Figure size 432x288 with 1 Axes>"
      ]
     },
     "metadata": {},
     "output_type": "display_data"
    }
   ],
   "source": [
    "plt.figure(figsize=(6,4))\n",
    "color, j = ['red', 'blue', 'green', 'black'], 0\n",
    "for i in stats.index:\n",
    "    plt.scatter(stats.loc[i,'standard deviation'],stats.loc[i,'mean'] ,c=color[j], s=50, label=i,\n",
    "               alpha=0.7, edgecolors='none')\n",
    "    j = j + 1\n",
    "plt.legend()\n",
    "plt.xlabel('risk')\n",
    "plt.ylabel('return')"
   ]
  },
  {
   "cell_type": "markdown",
   "metadata": {},
   "source": [
    "#### Comparing the statistics of the risky assets\n",
    "'MSCI USA' has the highest average return, 'MSCI PACIFIC' has the lowest average return.<br>\n",
    "'MSCI PACIFIC' has the highest standard deviation, or the risk. 'Treasury.Bond.10Y' has the lowest standard deviation, or the risk.<br>\n",
    "'MSCI PACIFIC' has positive skewness. Others have negative skewness.<br>\n",
    "'Treasury.Bond.10Y' has the highest return-risk ratio. 'MSCI PACIFIC' has the lowest return-risk ratio."
   ]
  },
  {
   "cell_type": "markdown",
   "metadata": {},
   "source": [
    "\n",
    "## <span style=\"color:blue\">Part 2:  Distributions </span>\n",
    "Plot the distributions for each asset class\n",
    "\n",
    "Compare the distribution"
   ]
  },
  {
   "cell_type": "code",
   "execution_count": 9,
   "metadata": {
    "scrolled": true
   },
   "outputs": [
    {
     "data": {
      "image/png": "[encoded data removed]",
      "text/plain": [
       "<Figure size 432x288 with 1 Axes>"
      ]
     },
     "metadata": {},
     "output_type": "display_data"
    },
    {
     "data": {
      "image/png": "[encoded data removed]",
      "text/plain": [
       "<Figure size 432x288 with 1 Axes>"
      ]
     },
     "metadata": {},
     "output_type": "display_data"
    },
    {
     "data": {
      "image/png": "[encoded data removed]",
      "text/plain": [
       "<Figure size 432x288 with 1 Axes>"
      ]
     },
     "metadata": {},
     "output_type": "display_data"
    },
    {
     "data": {
      "image/png": "[encoded data removed]",
      "text/plain": [
       "<Figure size 432x288 with 1 Axes>"
      ]
     },
     "metadata": {},
     "output_type": "display_data"
    },
    {
     "data": {
      "image/png": "[encoded data removed]",
      "text/plain": [
       "<Figure size 432x288 with 1 Axes>"
      ]
     },
     "metadata": {},
     "output_type": "display_data"
    },
    {
     "data": {
      "image/png": "[encoded data removed]",
      "text/plain": [
       "<Figure size 432x288 with 1 Axes>"
      ]
     },
     "metadata": {},
     "output_type": "display_data"
    },
    {
     "data": {
      "image/png": "[encoded data removed]",
      "text/plain": [
       "<Figure size 432x288 with 1 Axes>"
      ]
     },
     "metadata": {},
     "output_type": "display_data"
    },
    {
     "data": {
      "image/png": "[encoded data removed]",
      "text/plain": [
       "<Figure size 432x288 with 1 Axes>"
      ]
     },
     "metadata": {},
     "output_type": "display_data"
    },
    {
     "data": {
      "image/png": "[encoded data removed]",
      "text/plain": [
       "<Figure size 432x288 with 1 Axes>"
      ]
     },
     "metadata": {},
     "output_type": "display_data"
    },
    {
     "data": {
      "image/png": "[encoded data removed]",
      "text/plain": [
       "<Figure size 432x288 with 1 Axes>"
      ]
     },
     "metadata": {},
     "output_type": "display_data"
    }
   ],
   "source": [
    "assets = indata.iloc[:,1:]\n",
    "for col in assets.columns:\n",
    "    plt.figure(figsize=(6,4))\n",
    "    plt.title(col)\n",
    "    indata[col].plot.hist(stacked=True, bins=20)\n"
   ]
  },
  {
   "cell_type": "markdown",
   "metadata": {},
   "source": [
    "#### Comparison of the distributions\n",
    "Asset 'Treasury.Bill.90D' and asset 'Treasury.Bill.30D' have few negative returns. Most returns of them are positive. In addition, the range of the returns is narrow for each of the two assets. The range is about form 0 to 0.008.<br>\n",
    "For other assetss, they have obvious negative returns. The range of returns is also larger. It could be from -0.2 to 0.2.<br>\n",
    "For all assets, most data lies around 0."
   ]
  },
  {
   "cell_type": "markdown",
   "metadata": {},
   "source": [
    "## <span style=\"color:blue\"> Part 3: Covariance and Correlation Matrices  </span>\n",
    "\n",
    " 1.\tCalculate the covariance matrix \n",
    " 2. Calculate the correlation matrix\n",
    " 3.\tVerify the covariance matrix is non-singular\n",
    " 4.\tVerify the covariance matrix is symmetric and positive definite\n"
   ]
  },
  {
   "cell_type": "markdown",
   "metadata": {},
   "source": [
    "#### Covariance matrix"
   ]
  },
  {
   "cell_type": "code",
   "execution_count": 10,
   "metadata": {},
   "outputs": [
    {
     "data": {
      "text/html": [
       "<div>\n",
       "<style scoped>\n",
       "    .dataframe tbody tr th:only-of-type {\n",
       "        vertical-align: middle;\n",
       "    }\n",
       "\n",
       "    .dataframe tbody tr th {\n",
       "        vertical-align: top;\n",
       "    }\n",
       "\n",
       "    .dataframe thead th {\n",
       "        text-align: right;\n",
       "    }\n",
       "</style>\n",
       "<table border=\"1\" class=\"dataframe\">\n",
       "  <thead>\n",
       "    <tr style=\"text-align: right;\">\n",
       "      <th></th>\n",
       "      <th>MSCI WORLD</th>\n",
       "      <th>MSCI AC WORLD</th>\n",
       "      <th>MSCI EUROPE</th>\n",
       "      <th>MSCI EM</th>\n",
       "      <th>MSCI EAFE</th>\n",
       "      <th>MSCI PACIFIC</th>\n",
       "      <th>MSCI USA</th>\n",
       "      <th>Treasury.Bond.10Y</th>\n",
       "      <th>Treasury.Bill.90D</th>\n",
       "      <th>Treasury.Bill.30D</th>\n",
       "    </tr>\n",
       "  </thead>\n",
       "  <tbody>\n",
       "    <tr>\n",
       "      <th>MSCI WORLD</th>\n",
       "      <td>1.829491e-03</td>\n",
       "      <td>1.857011e-03</td>\n",
       "      <td>0.001959</td>\n",
       "      <td>0.002073</td>\n",
       "      <td>0.002007</td>\n",
       "      <td>0.001927</td>\n",
       "      <td>0.001579</td>\n",
       "      <td>-0.000072</td>\n",
       "      <td>-5.714910e-07</td>\n",
       "      <td>2.361634e-07</td>\n",
       "    </tr>\n",
       "    <tr>\n",
       "      <th>MSCI AC WORLD</th>\n",
       "      <td>1.857011e-03</td>\n",
       "      <td>1.893009e-03</td>\n",
       "      <td>0.001992</td>\n",
       "      <td>0.002212</td>\n",
       "      <td>0.002041</td>\n",
       "      <td>0.001965</td>\n",
       "      <td>0.001599</td>\n",
       "      <td>-0.000075</td>\n",
       "      <td>-5.995225e-07</td>\n",
       "      <td>2.879449e-07</td>\n",
       "    </tr>\n",
       "    <tr>\n",
       "      <th>MSCI EUROPE</th>\n",
       "      <td>1.958865e-03</td>\n",
       "      <td>1.992382e-03</td>\n",
       "      <td>0.002500</td>\n",
       "      <td>0.002251</td>\n",
       "      <td>0.002255</td>\n",
       "      <td>0.001813</td>\n",
       "      <td>0.001616</td>\n",
       "      <td>-0.000097</td>\n",
       "      <td>4.128561e-06</td>\n",
       "      <td>5.371443e-06</td>\n",
       "    </tr>\n",
       "    <tr>\n",
       "      <th>MSCI EM</th>\n",
       "      <td>2.073498e-03</td>\n",
       "      <td>2.211562e-03</td>\n",
       "      <td>0.002251</td>\n",
       "      <td>0.004424</td>\n",
       "      <td>0.002275</td>\n",
       "      <td>0.002247</td>\n",
       "      <td>0.001824</td>\n",
       "      <td>-0.000176</td>\n",
       "      <td>2.685331e-06</td>\n",
       "      <td>3.531978e-06</td>\n",
       "    </tr>\n",
       "    <tr>\n",
       "      <th>MSCI EAFE</th>\n",
       "      <td>2.006837e-03</td>\n",
       "      <td>2.041112e-03</td>\n",
       "      <td>0.002255</td>\n",
       "      <td>0.002275</td>\n",
       "      <td>0.002418</td>\n",
       "      <td>0.002435</td>\n",
       "      <td>0.001476</td>\n",
       "      <td>-0.000082</td>\n",
       "      <td>-2.681960e-06</td>\n",
       "      <td>-1.137128e-06</td>\n",
       "    </tr>\n",
       "    <tr>\n",
       "      <th>MSCI PACIFIC</th>\n",
       "      <td>1.927159e-03</td>\n",
       "      <td>1.965213e-03</td>\n",
       "      <td>0.001813</td>\n",
       "      <td>0.002247</td>\n",
       "      <td>0.002435</td>\n",
       "      <td>0.003131</td>\n",
       "      <td>0.001247</td>\n",
       "      <td>-0.000035</td>\n",
       "      <td>-8.921293e-06</td>\n",
       "      <td>-7.420575e-06</td>\n",
       "    </tr>\n",
       "    <tr>\n",
       "      <th>MSCI USA</th>\n",
       "      <td>1.578773e-03</td>\n",
       "      <td>1.599100e-03</td>\n",
       "      <td>0.001616</td>\n",
       "      <td>0.001824</td>\n",
       "      <td>0.001476</td>\n",
       "      <td>0.001247</td>\n",
       "      <td>0.001710</td>\n",
       "      <td>-0.000039</td>\n",
       "      <td>4.231289e-06</td>\n",
       "      <td>3.880084e-06</td>\n",
       "    </tr>\n",
       "    <tr>\n",
       "      <th>Treasury.Bond.10Y</th>\n",
       "      <td>-7.244054e-05</td>\n",
       "      <td>-7.542101e-05</td>\n",
       "      <td>-0.000097</td>\n",
       "      <td>-0.000176</td>\n",
       "      <td>-0.000082</td>\n",
       "      <td>-0.000035</td>\n",
       "      <td>-0.000039</td>\n",
       "      <td>0.000395</td>\n",
       "      <td>6.398223e-06</td>\n",
       "      <td>4.111967e-06</td>\n",
       "    </tr>\n",
       "    <tr>\n",
       "      <th>Treasury.Bill.90D</th>\n",
       "      <td>-5.714910e-07</td>\n",
       "      <td>-5.995225e-07</td>\n",
       "      <td>0.000004</td>\n",
       "      <td>0.000003</td>\n",
       "      <td>-0.000003</td>\n",
       "      <td>-0.000009</td>\n",
       "      <td>0.000004</td>\n",
       "      <td>0.000006</td>\n",
       "      <td>5.075423e-06</td>\n",
       "      <td>4.609024e-06</td>\n",
       "    </tr>\n",
       "    <tr>\n",
       "      <th>Treasury.Bill.30D</th>\n",
       "      <td>2.361634e-07</td>\n",
       "      <td>2.879449e-07</td>\n",
       "      <td>0.000005</td>\n",
       "      <td>0.000004</td>\n",
       "      <td>-0.000001</td>\n",
       "      <td>-0.000007</td>\n",
       "      <td>0.000004</td>\n",
       "      <td>0.000004</td>\n",
       "      <td>4.609024e-06</td>\n",
       "      <td>4.291624e-06</td>\n",
       "    </tr>\n",
       "  </tbody>\n",
       "</table>\n",
       "</div>"
      ],
      "text/plain": [
       "                     MSCI WORLD  MSCI AC WORLD  MSCI EUROPE   MSCI EM  \\\n",
       "MSCI WORLD         1.829491e-03   1.857011e-03     0.001959  0.002073   \n",
       "MSCI AC WORLD      1.857011e-03   1.893009e-03     0.001992  0.002212   \n",
       "MSCI EUROPE        1.958865e-03   1.992382e-03     0.002500  0.002251   \n",
       "MSCI EM            2.073498e-03   2.211562e-03     0.002251  0.004424   \n",
       "MSCI EAFE          2.006837e-03   2.041112e-03     0.002255  0.002275   \n",
       "MSCI PACIFIC       1.927159e-03   1.965213e-03     0.001813  0.002247   \n",
       "MSCI USA           1.578773e-03   1.599100e-03     0.001616  0.001824   \n",
       "Treasury.Bond.10Y -7.244054e-05  -7.542101e-05    -0.000097 -0.000176   \n",
       "Treasury.Bill.90D -5.714910e-07  -5.995225e-07     0.000004  0.000003   \n",
       "Treasury.Bill.30D  2.361634e-07   2.879449e-07     0.000005  0.000004   \n",
       "\n",
       "                   MSCI EAFE  MSCI PACIFIC  MSCI USA  Treasury.Bond.10Y  \\\n",
       "MSCI WORLD          0.002007      0.001927  0.001579          -0.000072   \n",
       "MSCI AC WORLD       0.002041      0.001965  0.001599          -0.000075   \n",
       "MSCI EUROPE         0.002255      0.001813  0.001616          -0.000097   \n",
       "MSCI EM             0.002275      0.002247  0.001824          -0.000176   \n",
       "MSCI EAFE           0.002418      0.002435  0.001476          -0.000082   \n",
       "MSCI PACIFIC        0.002435      0.003131  0.001247          -0.000035   \n",
       "MSCI USA            0.001476      0.001247  0.001710          -0.000039   \n",
       "Treasury.Bond.10Y  -0.000082     -0.000035 -0.000039           0.000395   \n",
       "Treasury.Bill.90D  -0.000003     -0.000009  0.000004           0.000006   \n",
       "Treasury.Bill.30D  -0.000001     -0.000007  0.000004           0.000004   \n",
       "\n",
       "                   Treasury.Bill.90D  Treasury.Bill.30D  \n",
       "MSCI WORLD             -5.714910e-07       2.361634e-07  \n",
       "MSCI AC WORLD          -5.995225e-07       2.879449e-07  \n",
       "MSCI EUROPE             4.128561e-06       5.371443e-06  \n",
       "MSCI EM                 2.685331e-06       3.531978e-06  \n",
       "MSCI EAFE              -2.681960e-06      -1.137128e-06  \n",
       "MSCI PACIFIC           -8.921293e-06      -7.420575e-06  \n",
       "MSCI USA                4.231289e-06       3.880084e-06  \n",
       "Treasury.Bond.10Y       6.398223e-06       4.111967e-06  \n",
       "Treasury.Bill.90D       5.075423e-06       4.609024e-06  \n",
       "Treasury.Bill.30D       4.609024e-06       4.291624e-06  "
      ]
     },
     "execution_count": 10,
     "metadata": {},
     "output_type": "execute_result"
    }
   ],
   "source": [
    "covariance_matrix = assets.cov()\n",
    "covariance_matrix"
   ]
  },
  {
   "cell_type": "markdown",
   "metadata": {},
   "source": [
    "#### Correlation matrix"
   ]
  },
  {
   "cell_type": "code",
   "execution_count": 11,
   "metadata": {},
   "outputs": [
    {
     "data": {
      "text/html": [
       "<div>\n",
       "<style scoped>\n",
       "    .dataframe tbody tr th:only-of-type {\n",
       "        vertical-align: middle;\n",
       "    }\n",
       "\n",
       "    .dataframe tbody tr th {\n",
       "        vertical-align: top;\n",
       "    }\n",
       "\n",
       "    .dataframe thead th {\n",
       "        text-align: right;\n",
       "    }\n",
       "</style>\n",
       "<table border=\"1\" class=\"dataframe\">\n",
       "  <thead>\n",
       "    <tr style=\"text-align: right;\">\n",
       "      <th></th>\n",
       "      <th>MSCI WORLD</th>\n",
       "      <th>MSCI AC WORLD</th>\n",
       "      <th>MSCI EUROPE</th>\n",
       "      <th>MSCI EM</th>\n",
       "      <th>MSCI EAFE</th>\n",
       "      <th>MSCI PACIFIC</th>\n",
       "      <th>MSCI USA</th>\n",
       "      <th>Treasury.Bond.10Y</th>\n",
       "      <th>Treasury.Bill.90D</th>\n",
       "      <th>Treasury.Bill.30D</th>\n",
       "    </tr>\n",
       "  </thead>\n",
       "  <tbody>\n",
       "    <tr>\n",
       "      <th>MSCI WORLD</th>\n",
       "      <td>1.000000</td>\n",
       "      <td>0.997868</td>\n",
       "      <td>0.916021</td>\n",
       "      <td>0.728829</td>\n",
       "      <td>0.954156</td>\n",
       "      <td>0.805188</td>\n",
       "      <td>0.892478</td>\n",
       "      <td>-0.085164</td>\n",
       "      <td>-0.005931</td>\n",
       "      <td>0.002665</td>\n",
       "    </tr>\n",
       "    <tr>\n",
       "      <th>MSCI AC WORLD</th>\n",
       "      <td>0.997868</td>\n",
       "      <td>1.000000</td>\n",
       "      <td>0.915931</td>\n",
       "      <td>0.764205</td>\n",
       "      <td>0.954032</td>\n",
       "      <td>0.807195</td>\n",
       "      <td>0.888674</td>\n",
       "      <td>-0.087168</td>\n",
       "      <td>-0.006116</td>\n",
       "      <td>0.003195</td>\n",
       "    </tr>\n",
       "    <tr>\n",
       "      <th>MSCI EUROPE</th>\n",
       "      <td>0.916021</td>\n",
       "      <td>0.915931</td>\n",
       "      <td>1.000000</td>\n",
       "      <td>0.676937</td>\n",
       "      <td>0.917064</td>\n",
       "      <td>0.647950</td>\n",
       "      <td>0.781742</td>\n",
       "      <td>-0.097888</td>\n",
       "      <td>0.036655</td>\n",
       "      <td>0.051862</td>\n",
       "    </tr>\n",
       "    <tr>\n",
       "      <th>MSCI EM</th>\n",
       "      <td>0.728829</td>\n",
       "      <td>0.764205</td>\n",
       "      <td>0.676937</td>\n",
       "      <td>1.000000</td>\n",
       "      <td>0.695570</td>\n",
       "      <td>0.603766</td>\n",
       "      <td>0.662956</td>\n",
       "      <td>-0.133087</td>\n",
       "      <td>0.017920</td>\n",
       "      <td>0.025633</td>\n",
       "    </tr>\n",
       "    <tr>\n",
       "      <th>MSCI EAFE</th>\n",
       "      <td>0.954156</td>\n",
       "      <td>0.954032</td>\n",
       "      <td>0.917064</td>\n",
       "      <td>0.695570</td>\n",
       "      <td>1.000000</td>\n",
       "      <td>0.884854</td>\n",
       "      <td>0.725762</td>\n",
       "      <td>-0.084321</td>\n",
       "      <td>-0.024210</td>\n",
       "      <td>-0.011163</td>\n",
       "    </tr>\n",
       "    <tr>\n",
       "      <th>MSCI PACIFIC</th>\n",
       "      <td>0.805188</td>\n",
       "      <td>0.807195</td>\n",
       "      <td>0.647950</td>\n",
       "      <td>0.603766</td>\n",
       "      <td>0.884854</td>\n",
       "      <td>1.000000</td>\n",
       "      <td>0.538701</td>\n",
       "      <td>-0.031418</td>\n",
       "      <td>-0.070768</td>\n",
       "      <td>-0.064014</td>\n",
       "    </tr>\n",
       "    <tr>\n",
       "      <th>MSCI USA</th>\n",
       "      <td>0.892478</td>\n",
       "      <td>0.888674</td>\n",
       "      <td>0.781742</td>\n",
       "      <td>0.662956</td>\n",
       "      <td>0.725762</td>\n",
       "      <td>0.538701</td>\n",
       "      <td>1.000000</td>\n",
       "      <td>-0.047390</td>\n",
       "      <td>0.045413</td>\n",
       "      <td>0.045287</td>\n",
       "    </tr>\n",
       "    <tr>\n",
       "      <th>Treasury.Bond.10Y</th>\n",
       "      <td>-0.085164</td>\n",
       "      <td>-0.087168</td>\n",
       "      <td>-0.097888</td>\n",
       "      <td>-0.133087</td>\n",
       "      <td>-0.084321</td>\n",
       "      <td>-0.031418</td>\n",
       "      <td>-0.047390</td>\n",
       "      <td>1.000000</td>\n",
       "      <td>0.142811</td>\n",
       "      <td>0.099811</td>\n",
       "    </tr>\n",
       "    <tr>\n",
       "      <th>Treasury.Bill.90D</th>\n",
       "      <td>-0.005931</td>\n",
       "      <td>-0.006116</td>\n",
       "      <td>0.036655</td>\n",
       "      <td>0.017920</td>\n",
       "      <td>-0.024210</td>\n",
       "      <td>-0.070768</td>\n",
       "      <td>0.045413</td>\n",
       "      <td>0.142811</td>\n",
       "      <td>1.000000</td>\n",
       "      <td>0.987557</td>\n",
       "    </tr>\n",
       "    <tr>\n",
       "      <th>Treasury.Bill.30D</th>\n",
       "      <td>0.002665</td>\n",
       "      <td>0.003195</td>\n",
       "      <td>0.051862</td>\n",
       "      <td>0.025633</td>\n",
       "      <td>-0.011163</td>\n",
       "      <td>-0.064014</td>\n",
       "      <td>0.045287</td>\n",
       "      <td>0.099811</td>\n",
       "      <td>0.987557</td>\n",
       "      <td>1.000000</td>\n",
       "    </tr>\n",
       "  </tbody>\n",
       "</table>\n",
       "</div>"
      ],
      "text/plain": [
       "                   MSCI WORLD  MSCI AC WORLD  MSCI EUROPE   MSCI EM  \\\n",
       "MSCI WORLD           1.000000       0.997868     0.916021  0.728829   \n",
       "MSCI AC WORLD        0.997868       1.000000     0.915931  0.764205   \n",
       "MSCI EUROPE          0.916021       0.915931     1.000000  0.676937   \n",
       "MSCI EM              0.728829       0.764205     0.676937  1.000000   \n",
       "MSCI EAFE            0.954156       0.954032     0.917064  0.695570   \n",
       "MSCI PACIFIC         0.805188       0.807195     0.647950  0.603766   \n",
       "MSCI USA             0.892478       0.888674     0.781742  0.662956   \n",
       "Treasury.Bond.10Y   -0.085164      -0.087168    -0.097888 -0.133087   \n",
       "Treasury.Bill.90D   -0.005931      -0.006116     0.036655  0.017920   \n",
       "Treasury.Bill.30D    0.002665       0.003195     0.051862  0.025633   \n",
       "\n",
       "                   MSCI EAFE  MSCI PACIFIC  MSCI USA  Treasury.Bond.10Y  \\\n",
       "MSCI WORLD          0.954156      0.805188  0.892478          -0.085164   \n",
       "MSCI AC WORLD       0.954032      0.807195  0.888674          -0.087168   \n",
       "MSCI EUROPE         0.917064      0.647950  0.781742          -0.097888   \n",
       "MSCI EM             0.695570      0.603766  0.662956          -0.133087   \n",
       "MSCI EAFE           1.000000      0.884854  0.725762          -0.084321   \n",
       "MSCI PACIFIC        0.884854      1.000000  0.538701          -0.031418   \n",
       "MSCI USA            0.725762      0.538701  1.000000          -0.047390   \n",
       "Treasury.Bond.10Y  -0.084321     -0.031418 -0.047390           1.000000   \n",
       "Treasury.Bill.90D  -0.024210     -0.070768  0.045413           0.142811   \n",
       "Treasury.Bill.30D  -0.011163     -0.064014  0.045287           0.099811   \n",
       "\n",
       "                   Treasury.Bill.90D  Treasury.Bill.30D  \n",
       "MSCI WORLD                 -0.005931           0.002665  \n",
       "MSCI AC WORLD              -0.006116           0.003195  \n",
       "MSCI EUROPE                 0.036655           0.051862  \n",
       "MSCI EM                     0.017920           0.025633  \n",
       "MSCI EAFE                  -0.024210          -0.011163  \n",
       "MSCI PACIFIC               -0.070768          -0.064014  \n",
       "MSCI USA                    0.045413           0.045287  \n",
       "Treasury.Bond.10Y           0.142811           0.099811  \n",
       "Treasury.Bill.90D           1.000000           0.987557  \n",
       "Treasury.Bill.30D           0.987557           1.000000  "
      ]
     },
     "execution_count": 11,
     "metadata": {},
     "output_type": "execute_result"
    }
   ],
   "source": [
    "correlation_matrix = assets.corr()\n",
    "correlation_matrix"
   ]
  },
  {
   "cell_type": "markdown",
   "metadata": {},
   "source": [
    "#### Check if covariance matrix is non-singular\n",
    "If its rank equals to its row number (or column number), it is non-sigular"
   ]
  },
  {
   "cell_type": "code",
   "execution_count": 12,
   "metadata": {},
   "outputs": [
    {
     "data": {
      "text/plain": [
       "True"
      ]
     },
     "execution_count": 12,
     "metadata": {},
     "output_type": "execute_result"
    }
   ],
   "source": [
    "a = covariance_matrix.values\n",
    "np.linalg.matrix_rank(a) == a.shape[0]"
   ]
  },
  {
   "cell_type": "markdown",
   "metadata": {},
   "source": [
    "#### Check if covariance matrix is symmetric\n",
    "Simply compare the matrix with its transpose"
   ]
  },
  {
   "cell_type": "code",
   "execution_count": 13,
   "metadata": {},
   "outputs": [
    {
     "data": {
      "text/plain": [
       "True"
      ]
     },
     "execution_count": 13,
     "metadata": {},
     "output_type": "execute_result"
    }
   ],
   "source": [
    "np.allclose(a, a.T, atol=1e-8)"
   ]
  },
  {
   "cell_type": "markdown",
   "metadata": {},
   "source": [
    "#### Check if covariance matrix is positive definite\n",
    "See if all the eigenvalues of matrix are positive"
   ]
  },
  {
   "cell_type": "code",
   "execution_count": 14,
   "metadata": {},
   "outputs": [
    {
     "data": {
      "text/plain": [
       "True"
      ]
     },
     "execution_count": 14,
     "metadata": {},
     "output_type": "execute_result"
    }
   ],
   "source": [
    "np.all(np.linalg.eigvals(a) > 0)"
   ]
  },
  {
   "cell_type": "markdown",
   "metadata": {},
   "source": [
    "## <span style=\"color:blue\">Part 4: Calculate the weights, returns and risks for the following portfolios     </span>\n",
    " 1.\tMinimum variance portfolio\n",
    " 2. Portfolio with expected return of 9% and minimum variance\n",
    " 3. Efficicent frontier (calculate the weights, returns and risk of at least 7 portfolios)\n",
    " 4. Plot the portfolios and asset classes on a graph\n",
    " 5. Plot an equal weighted portolio on the graph\n",
    " 6. What is the expected return and risk of the minimum variance portfolio\n",
    "  "
   ]
  },
  {
   "cell_type": "markdown",
   "metadata": {},
   "source": [
    "#### Calculate minimum variance portfolio\n",
    "Let $\\bf{\\Sigma}$ denote the covariance matrix, $\\bf{w}$ denote the weights of assets.<br>\n",
    "By Lagrangian FOC, write \n",
    "$$ \\bf{A}=\\begin{pmatrix} 2 \\Sigma & \\bf{1} \\\\ \\bf{1'} & 0\\end{pmatrix}, \\bf{z}=\\begin{pmatrix}\\bf{w}\\\\ \\lambda\\end{pmatrix}, \\bf{b}=\\begin{pmatrix}\\bf{0} \\\\ 1\\end{pmatrix}, $$\n",
    "then\n",
    "$$ \\bf{z}=\\bf{A}^{-1}\\bf{b}$$"
   ]
  },
  {
   "cell_type": "code",
   "execution_count": 15,
   "metadata": {},
   "outputs": [
    {
     "name": "stdout",
     "output_type": "stream",
     "text": [
      "weights:\n",
      " [[ 8.902e-02]\n",
      " [-4.080e-02]\n",
      " [-1.462e-02]\n",
      " [ 1.520e-03]\n",
      " [-1.423e-02]\n",
      " [-9.696e-04]\n",
      " [-1.831e-02]\n",
      " [ 1.238e-02]\n",
      " [-2.278e+00]\n",
      " [ 3.264e+00]]\n"
     ]
    }
   ],
   "source": [
    "A = np.ones((len(a[0])+1,len(a[0])+1))\n",
    "A[:-1,:-1] = 2*a\n",
    "A[-1,-1] = 0\n",
    "b = np.zeros((len(a[0])+1,1))\n",
    "b[-1,0] = 1\n",
    "z = np.matmul(np.linalg.inv(A),b)\n",
    "weights = z[:-1]\n",
    "print('weights:\\n', weights)"
   ]
  },
  {
   "cell_type": "markdown",
   "metadata": {},
   "source": [
    "Expected return and risk of the minimum variance portfolio"
   ]
  },
  {
   "cell_type": "code",
   "execution_count": 16,
   "metadata": {},
   "outputs": [
    {
     "name": "stdout",
     "output_type": "stream",
     "text": [
      "expected return: 0.001976\n",
      "risk: 0.001857\n"
     ]
    }
   ],
   "source": [
    "mu = assets.mean().values\n",
    "mu = mu.reshape(-1,1)\n",
    "exptected_return = np.sum(np.dot(weights.T,mu))\n",
    "print('expected return: %.6f'% exptected_return)\n",
    "std = assets.std().values\n",
    "std = std.reshape(-1,1)\n",
    "weighted_std = np.multiply(weights, std)\n",
    "corr = correlation_matrix.values\n",
    "risk = np.sqrt(np.sum(np.matmul(np.matmul(weighted_std.T, corr), weighted_std)))\n",
    "print('risk: %.6f'% risk)"
   ]
  },
  {
   "cell_type": "markdown",
   "metadata": {},
   "source": [
    "#### Calculate portfolio with expected return of 9% and minimum variance\n",
    "By Lagrangian FOC, write \n",
    "$$ \\bf{A}=\\begin{pmatrix} 2 \\Sigma  & \\bf{u} & \\bf{1} \\\\ \\bf{u'} & 0 & 0 \\\\ \\bf{1'} &0 &0\\end{pmatrix}, \\bf{z}=\\begin{pmatrix}\\bf{w}\\\\ \\lambda_1 \\\\ \\lambda_2\\end{pmatrix}, \\bf{b}=\\begin{pmatrix}\\bf{0} \\\\ \\mu_0 \\\\ 1\\end{pmatrix}, $$\n",
    "then\n",
    "$$ \\bf{z}=\\bf{A}^{-1}\\bf{b}$$\n",
    "where $\\bf{u}$ is the expected return, and $\\mu_0=9\\%$."
   ]
  },
  {
   "cell_type": "code",
   "execution_count": 17,
   "metadata": {},
   "outputs": [
    {
     "name": "stdout",
     "output_type": "stream",
     "text": [
      "weights:\n",
      " [[ 1.003e+01]\n",
      " [-7.293e+00]\n",
      " [ 1.341e+00]\n",
      " [ 6.093e-01]\n",
      " [-3.162e+00]\n",
      " [ 3.799e-01]\n",
      " [-1.233e+00]\n",
      " [ 1.541e-01]\n",
      " [ 3.037e+02]\n",
      " [-3.036e+02]]\n",
      "exptected return: 0.090000\n",
      "risk: 0.123632\n"
     ]
    }
   ],
   "source": [
    "A = np.ones((len(a[0])+2,len(a[0])+2))\n",
    "A[:-2,:-2],A[:-2,-2],A[-2,:-2],A[-2:,-2:] = 2*a,mu[:,0],mu.T,0\n",
    "b = np.zeros((len(a[0])+2,1))\n",
    "b[-1,0],b[-2,0] = 1,0.09\n",
    "z = np.matmul(np.linalg.inv(A),b)\n",
    "weights = z[:-2]\n",
    "print('weights:\\n', weights)\n",
    "print('exptected return: %.6f'% np.sum(np.dot(weights.T,mu)))\n",
    "weighted_std = np.multiply(weights, std)\n",
    "risk = np.sqrt(np.sum(np.matmul(np.matmul(weighted_std.T, corr), weighted_std)))\n",
    "print('risk: %.6f'% risk)"
   ]
  },
  {
   "cell_type": "markdown",
   "metadata": {},
   "source": [
    "#### Efficicent frontier\n",
    "20 portfolios are constructed. Returns are set as 0.0005, 0.0010, 0.0015, 0.0020, 0.0025, ..., 0.0100.<br>\n",
    "Weights and risks are calculated."
   ]
  },
  {
   "cell_type": "code",
   "execution_count": 18,
   "metadata": {},
   "outputs": [
    {
     "name": "stdout",
     "output_type": "stream",
     "text": [
      "weights_matrix:\n",
      " [[-7.762e-02 -2.116e-02  3.530e-02  9.176e-02  1.482e-01  2.047e-01\n",
      "   2.611e-01  3.176e-01  3.741e-01  4.305e-01  4.870e-01  5.435e-01\n",
      "   5.999e-01  6.564e-01  7.128e-01  7.693e-01  8.258e-01  8.822e-01\n",
      "   9.387e-01  9.952e-01]\n",
      " [ 8.078e-02  3.959e-02 -1.601e-03 -4.279e-02 -8.398e-02 -1.252e-01\n",
      "  -1.664e-01 -2.076e-01 -2.488e-01 -2.899e-01 -3.311e-01 -3.723e-01\n",
      "  -4.135e-01 -4.547e-01 -4.959e-01 -5.371e-01 -5.783e-01 -6.195e-01\n",
      "  -6.607e-01 -7.019e-01]\n",
      " [-3.735e-02 -2.965e-02 -2.195e-02 -1.425e-02 -6.551e-03  1.149e-03\n",
      "   8.848e-03  1.655e-02  2.425e-02  3.195e-02  3.965e-02  4.735e-02\n",
      "   5.505e-02  6.275e-02  7.045e-02  7.815e-02  8.585e-02  9.355e-02\n",
      "   1.012e-01  1.089e-01]\n",
      " [-8.670e-03 -5.217e-03 -1.765e-03  1.687e-03  5.139e-03  8.592e-03\n",
      "   1.204e-02  1.550e-02  1.895e-02  2.240e-02  2.585e-02  2.931e-02\n",
      "   3.276e-02  3.621e-02  3.966e-02  4.311e-02  4.657e-02  5.002e-02\n",
      "   5.347e-02  5.692e-02]\n",
      " [ 3.855e-02  2.067e-02  2.784e-03 -1.510e-02 -3.298e-02 -5.086e-02\n",
      "  -6.875e-02 -8.663e-02 -1.045e-01 -1.224e-01 -1.403e-01 -1.582e-01\n",
      "  -1.760e-01 -1.939e-01 -2.118e-01 -2.297e-01 -2.476e-01 -2.655e-01\n",
      "  -2.833e-01 -3.012e-01]\n",
      " [-7.354e-03 -5.191e-03 -3.028e-03 -8.647e-04  1.299e-03  3.462e-03\n",
      "   5.625e-03  7.788e-03  9.952e-03  1.211e-02  1.428e-02  1.644e-02\n",
      "   1.860e-02  2.077e-02  2.293e-02  2.509e-02  2.726e-02  2.942e-02\n",
      "   3.158e-02  3.375e-02]\n",
      " [ 2.042e-03 -4.855e-03 -1.175e-02 -1.865e-02 -2.555e-02 -3.244e-02\n",
      "  -3.934e-02 -4.624e-02 -5.313e-02 -6.003e-02 -6.693e-02 -7.382e-02\n",
      "  -8.072e-02 -8.762e-02 -9.452e-02 -1.014e-01 -1.083e-01 -1.152e-01\n",
      "  -1.221e-01 -1.290e-01]\n",
      " [ 1.001e-02  1.081e-02  1.162e-02  1.242e-02  1.323e-02  1.403e-02\n",
      "   1.484e-02  1.564e-02  1.645e-02  1.725e-02  1.806e-02  1.886e-02\n",
      "   1.967e-02  2.047e-02  2.128e-02  2.209e-02  2.289e-02  2.370e-02\n",
      "   2.450e-02  2.531e-02]\n",
      " [-7.409e+00 -5.671e+00 -3.932e+00 -2.194e+00 -4.558e-01  1.282e+00\n",
      "   3.021e+00  4.759e+00  6.497e+00  8.236e+00  9.974e+00  1.171e+01\n",
      "   1.345e+01  1.519e+01  1.693e+01  1.867e+01  2.040e+01  2.214e+01\n",
      "   2.388e+01  2.562e+01]\n",
      " [ 8.409e+00  6.666e+00  4.923e+00  3.180e+00  1.437e+00 -3.059e-01\n",
      "  -2.049e+00 -3.792e+00 -5.535e+00 -7.278e+00 -9.020e+00 -1.076e+01\n",
      "  -1.251e+01 -1.425e+01 -1.599e+01 -1.773e+01 -1.948e+01 -2.122e+01\n",
      "  -2.296e+01 -2.471e+01]]\n",
      "returns:  [0.001 0.001 0.002 0.002 0.003 0.003 0.004 0.004 0.005 0.005 0.005 0.006\n",
      " 0.007 0.007 0.007 0.008 0.009 0.009 0.01  0.01 ]\n",
      "risks:  [0.003 0.002 0.002 0.002 0.002 0.002 0.003 0.003 0.004 0.005 0.005 0.006\n",
      " 0.007 0.007 0.008 0.009 0.009 0.01  0.011 0.011]\n"
     ]
    }
   ],
   "source": [
    "weights_matrix = np.zeros((np.shape(weights)[0],20))\n",
    "i = 0\n",
    "returns = np.linspace(0.0005,0.01,20)\n",
    "stds = np.zeros(20)\n",
    "for mu0 in list(returns):\n",
    "    b[-2,0] = mu0\n",
    "    z = np.matmul(np.linalg.inv(A),b)\n",
    "    weights_matrix[:,i] = z[:-2,0]\n",
    "    weights = z[:-2]\n",
    "    weighted_std = np.multiply(weights, std)\n",
    "    stds[i]=np.sqrt(np.sum(np.matmul(np.matmul(weighted_std.T, corr), weighted_std)))\n",
    "    i += 1\n",
    "\n",
    "print('weights_matrix:\\n', weights_matrix)\n",
    "print('returns: ', returns)\n",
    "print('risks: ', stds)\n"
   ]
  },
  {
   "cell_type": "markdown",
   "metadata": {},
   "source": [
    "#### Plot above calculated portfolios, all assets and an equal weighted portolio"
   ]
  },
  {
   "cell_type": "code",
   "execution_count": 19,
   "metadata": {},
   "outputs": [
    {
     "data": {
      "text/plain": [
       "Text(0,0.5,'return')"
      ]
     },
     "execution_count": 19,
     "metadata": {},
     "output_type": "execute_result"
    },
    {
     "data": {
      "image/png": "[encoded data removed]",
      "text/plain": [
       "<Figure size 432x288 with 1 Axes>"
      ]
     },
     "metadata": {},
     "output_type": "display_data"
    }
   ],
   "source": [
    "fig = plt.figure(figsize=(6,4))\n",
    "plt.scatter(stds, returns, c='blue', s=50, label='Portfolios on Efficicent Frontier',\n",
    "               alpha=0.7, edgecolors='none')\n",
    "plt.ylim([-0.01,0.02])\n",
    "plt.xlim([-0.005,0.07])\n",
    "\n",
    "returns2 = assets.mean().values\n",
    "stds2 = assets.std().values\n",
    "plt.scatter(stds2, returns2, c='green', s=50, label='Assets',\n",
    "               alpha=0.7, edgecolors='none')\n",
    "\n",
    "weights = np.ones((np.shape(weights)[0],1)) / np.shape(weights)[0]\n",
    "expected_return = np.sum(np.dot(weights.T,mu))\n",
    "weighted_std = np.multiply(weights, std)\n",
    "risk = np.sqrt(np.sum(np.matmul(np.matmul(weighted_std.T, corr), weighted_std)))\n",
    "plt.scatter(risk, expected_return,c='red', s=50, label='Equal Weighted Portolio',\n",
    "               alpha=0.7, edgecolors='none')\n",
    "plt.legend()\n",
    "plt.xlabel('risk')\n",
    "plt.ylabel('return')"
   ]
  },
  {
   "cell_type": "markdown",
   "metadata": {},
   "source": [
    "## <span style=\"color:blue\">Part 5: Calculate the beta (t-stat, R-square) of each the risk asset class to the following 2 'market' portfolios   </span>\n",
    "\n",
    "  Market Portfolio 1: \"MSCI AC WORLD\"    \n",
    "  Market Portfolio 2: \"MSCI USA\"\n",
    "  \n",
    "  Compare the betas for each asset class\n"
   ]
  },
  {
   "cell_type": "code",
   "execution_count": 20,
   "metadata": {},
   "outputs": [
    {
     "data": {
      "text/html": [
       "<div>\n",
       "<style scoped>\n",
       "    .dataframe tbody tr th:only-of-type {\n",
       "        vertical-align: middle;\n",
       "    }\n",
       "\n",
       "    .dataframe tbody tr th {\n",
       "        vertical-align: top;\n",
       "    }\n",
       "\n",
       "    .dataframe thead th {\n",
       "        text-align: right;\n",
       "    }\n",
       "</style>\n",
       "<table border=\"1\" class=\"dataframe\">\n",
       "  <thead>\n",
       "    <tr style=\"text-align: right;\">\n",
       "      <th></th>\n",
       "      <th>beta with MSCI AC WORLD</th>\n",
       "      <th>beta with MSCI USA</th>\n",
       "    </tr>\n",
       "  </thead>\n",
       "  <tbody>\n",
       "    <tr>\n",
       "      <th>MSCI WORLD</th>\n",
       "      <td>0.980984</td>\n",
       "      <td>0.923009</td>\n",
       "    </tr>\n",
       "    <tr>\n",
       "      <th>MSCI AC WORLD</th>\n",
       "      <td>1.000000</td>\n",
       "      <td>0.934893</td>\n",
       "    </tr>\n",
       "    <tr>\n",
       "      <th>MSCI EUROPE</th>\n",
       "      <td>1.052495</td>\n",
       "      <td>0.945019</td>\n",
       "    </tr>\n",
       "    <tr>\n",
       "      <th>MSCI EM</th>\n",
       "      <td>1.168279</td>\n",
       "      <td>1.066205</td>\n",
       "    </tr>\n",
       "    <tr>\n",
       "      <th>MSCI EAFE</th>\n",
       "      <td>1.078237</td>\n",
       "      <td>0.862909</td>\n",
       "    </tr>\n",
       "    <tr>\n",
       "      <th>MSCI PACIFIC</th>\n",
       "      <td>1.038143</td>\n",
       "      <td>0.728863</td>\n",
       "    </tr>\n",
       "    <tr>\n",
       "      <th>MSCI USA</th>\n",
       "      <td>0.844740</td>\n",
       "      <td>1.000000</td>\n",
       "    </tr>\n",
       "    <tr>\n",
       "      <th>Treasury.Bond.10Y</th>\n",
       "      <td>-0.039842</td>\n",
       "      <td>-0.022787</td>\n",
       "    </tr>\n",
       "    <tr>\n",
       "      <th>Treasury.Bill.90D</th>\n",
       "      <td>-0.000317</td>\n",
       "      <td>0.002474</td>\n",
       "    </tr>\n",
       "    <tr>\n",
       "      <th>Treasury.Bill.30D</th>\n",
       "      <td>0.000152</td>\n",
       "      <td>0.002268</td>\n",
       "    </tr>\n",
       "  </tbody>\n",
       "</table>\n",
       "</div>"
      ],
      "text/plain": [
       "                   beta with MSCI AC WORLD  beta with MSCI USA\n",
       "MSCI WORLD                        0.980984            0.923009\n",
       "MSCI AC WORLD                     1.000000            0.934893\n",
       "MSCI EUROPE                       1.052495            0.945019\n",
       "MSCI EM                           1.168279            1.066205\n",
       "MSCI EAFE                         1.078237            0.862909\n",
       "MSCI PACIFIC                      1.038143            0.728863\n",
       "MSCI USA                          0.844740            1.000000\n",
       "Treasury.Bond.10Y                -0.039842           -0.022787\n",
       "Treasury.Bill.90D                -0.000317            0.002474\n",
       "Treasury.Bill.30D                 0.000152            0.002268"
      ]
     },
     "execution_count": 20,
     "metadata": {},
     "output_type": "execute_result"
    }
   ],
   "source": [
    "var1 = covariance_matrix.loc['MSCI AC WORLD','MSCI AC WORLD']\n",
    "beta1 = covariance_matrix.loc[:,'MSCI AC WORLD'] / var1\n",
    "var2 = covariance_matrix.loc['MSCI USA','MSCI USA']\n",
    "beta2 = covariance_matrix.loc[:,'MSCI USA'] / var2\n",
    "beta = pd.concat([beta1,beta2],axis=1)\n",
    "beta.columns = ['beta with MSCI AC WORLD', 'beta with MSCI USA']\n",
    "beta"
   ]
  },
  {
   "cell_type": "markdown",
   "metadata": {},
   "source": [
    "#### Comparison of the betas\n",
    "For 'Treasury.Bond.10Y', its beta is small (close to 0) and negative in both markets.<br>\n",
    "For the Treasury Bills, their betas are even closer to 0 compared with the Treasury Bond.<br>\n",
    "For 'MSCI WORLD', its beta is close to 1 but smaller than 1 in both markets.<br>\n",
    "For 'MSCI EM', its beta is greater than 1 in both markets.<br>\n",
    "For other assets, their betas are greater than 1 in the 'MSCI AC WORLD' market (except itself), but smaller than 1 in the 'MSCI USA' market (except itself). "
   ]
  },
  {
   "cell_type": "markdown",
   "metadata": {},
   "source": [
    "## <span style=\"color:blue\">Part 6: Extra Credit </span>\n",
    "\n",
    "Exponentially Weighted Moving Average Covariance Matrix\n",
    "An exponentially weighted moving average (EWMA) puts more weight on the more recent observations, and thus takes some account of the dynamic ordering in returns.  When an EWMA is applied to squared returns the resulting volatility estimate will react immediately following an unusually large return.  Then the effect of this return in the EWMA gradually diminishes over time.  The reaction of EWMA volatility estimates to market events therefore persist over time, and with a strength determined by the smoothing constant $\\lambda$.  This is a number between 0 and 1.  The larger the value of $\\lambda$ the more weight is placed on past observations and so the smoother the series becomes.  (Alexander, 2001)\n",
    "\n",
    "Look up how to calculate a covariance matrix using EWMA\n",
    "Calculate the 4 minimum variance portfolio with this matrix using 4 different $\\lambda$s.  Compare the weights for these 4 different $\\lambda$s and the equal weighted (normal covariance matrix from Part 3)\n"
   ]
  },
  {
   "cell_type": "markdown",
   "metadata": {},
   "source": [
    "#### Covariance matrix with EWMA\n",
    "$\\lambda$ is chosen as 0.5, 0.6, 0.7, 0.8. In pandas, $\\lambda = 2/(span+1)$, so span = $2/\\lambda -1$.<br>\n",
    "The span parameter is set to calculte covariance matrix with EWMA. Then minimum varaince portfolio is calculated based on the covariance matrix."
   ]
  },
  {
   "cell_type": "code",
   "execution_count": 21,
   "metadata": {},
   "outputs": [
    {
     "name": "stdout",
     "output_type": "stream",
     "text": [
      "lambda =  0.5\n",
      "weights:\n",
      " [[ 0.216]\n",
      " [-0.132]\n",
      " [-0.057]\n",
      " [ 0.01 ]\n",
      " [ 0.017]\n",
      " [-0.018]\n",
      " [-0.035]\n",
      " [ 0.035]\n",
      " [-4.298]\n",
      " [ 5.261]]\n",
      "lambda =  0.6\n",
      "weights:\n",
      " [[ 0.185]\n",
      " [-0.108]\n",
      " [-0.044]\n",
      " [ 0.008]\n",
      " [ 0.005]\n",
      " [-0.012]\n",
      " [-0.032]\n",
      " [ 0.028]\n",
      " [-3.775]\n",
      " [ 4.745]]\n",
      "lambda =  0.7\n",
      "weights:\n",
      " [[ 1.573e-01]\n",
      " [-8.700e-02]\n",
      " [-3.404e-02]\n",
      " [ 5.633e-03]\n",
      " [-3.466e-03]\n",
      " [-8.111e-03]\n",
      " [-2.861e-02]\n",
      " [ 2.291e-02]\n",
      " [-3.327e+00]\n",
      " [ 4.302e+00]]\n",
      "lambda =  0.8\n",
      "weights:\n",
      " [[ 0.132]\n",
      " [-0.069]\n",
      " [-0.026]\n",
      " [ 0.004]\n",
      " [-0.009]\n",
      " [-0.005]\n",
      " [-0.025]\n",
      " [ 0.019]\n",
      " [-2.936]\n",
      " [ 3.915]]\n"
     ]
    }
   ],
   "source": [
    "Lambda = np.asarray([0.5, 0.6, 0.7, 0.8])\n",
    "for l in Lambda:\n",
    "    span = 2/l-1\n",
    "    ewma_covariance_matrix = pd.ewma(assets,span=span).cov()\n",
    "    a = ewma_covariance_matrix.values\n",
    "    A = np.ones((len(a[0])+1,len(a[0])+1))\n",
    "    A[:-1,:-1] = 2*a\n",
    "    A[-1,-1] = 0\n",
    "    b = np.zeros((len(a[0])+1,1))\n",
    "    b[-1,0] = 1\n",
    "    z = np.matmul(np.linalg.inv(A),b)\n",
    "    weights = z[:-1]\n",
    "    print('lambda = ', l)\n",
    "    print('weights:\\n', weights)\n",
    "    "
   ]
  },
  {
   "cell_type": "markdown",
   "metadata": {},
   "source": [
    "#### Comparing the weights\n",
    "Compared with equal weighted portfolio, the weights of 'Treasury.Bill.90D' and 'Treasury.Bill.30D' are largest among all assets. The weight of 'Treasury.Bill.90D' is negative, meaning short the asset. The weight of 'Treasury.Bill.30D' is positive. The weights of other assets are quite small compared with these two. The weights of the two assets become smaller when $\\lambda$ increases. "
   ]
  }
 ],
 "metadata": {
  "kernelspec": {
   "display_name": "Python 3",
   "language": "python",
   "name": "python3"
  },
  "language_info": {
   "codemirror_mode": {
    "name": "ipython",
    "version": 3
   },
   "file_extension": ".py",
   "mimetype": "text/x-python",
   "name": "python",
   "nbconvert_exporter": "python",
   "pygments_lexer": "ipython3",
   "version": "3.7.1"
  }
 },
 "nbformat": 4,
 "nbformat_minor": 2
}
